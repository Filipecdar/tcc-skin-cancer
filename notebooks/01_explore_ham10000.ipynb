{
 "cells": [
  {
   "cell_type": "markdown",
   "id": "f2227ec2",
   "metadata": {},
   "source": [
    "# 01 – Explorar HAM10000"
   ]
  },
  {
   "cell_type": "code",
   "execution_count": null,
   "id": "cff6fefd",
   "metadata": {},
   "outputs": [],
   "source": [
    "from pathlib import Path\n",
    "import pandas as pd\n",
    "import matplotlib.pyplot as plt\n",
    "from src.data import load_metadata, class_distribution\n",
    "from src.viz import save_fig\n",
    "\n",
    "ROOT = Path(\"data/raw/HAM10000\")\n",
    "meta_candidates = list(ROOT.glob(\"**/HAM10000_metadata.csv\"))\n",
    "if not meta_candidates:\n",
    "    raise FileNotFoundError(\"Coloque o HAM10000_metadata.csv em data/raw/HAM10000/\")\n",
    "df = load_metadata(meta_candidates[0])\n",
    "dist = class_distribution(df)\n",
    "display(dist)\n",
    "\n",
    "ax = dist.plot(kind=\"bar\", x=\"dx\", y=\"count\", legend=False, rot=45)\n",
    "ax.set_title(\"Distribuição de classes – HAM10000\")\n",
    "ax.set_xlabel(\"Classe (dx)\")\n",
    "ax.set_ylabel(\"Contagem\")\n",
    "fig = ax.get_figure()\n",
    "save_fig(fig, \"outputs/figures/ham10000_class_dist.png\")\n",
    "plt.show()"
   ]
  }
 ],
 "metadata": {
  "kernelspec": {
   "display_name": "tcc-skin",
   "language": "python",
   "name": "tcc-skin"
  },
  "language_info": {
   "codemirror_mode": {
    "name": "ipython",
    "version": 3
   },
   "file_extension": ".py",
   "mimetype": "text/x-python",
   "name": "python",
   "nbconvert_exporter": "python",
   "pygments_lexer": "ipython3",
   "version": "3.10.18"
  }
 },
 "nbformat": 4,
 "nbformat_minor": 5
}
