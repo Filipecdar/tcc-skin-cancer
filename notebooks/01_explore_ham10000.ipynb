{
 "cells": [
  {
   "cell_type": "markdown",
   "id": "f2227ec2",
   "metadata": {},
   "source": [
    "# 01 – Explorar HAM10000"
   ]
  },
  {
   "cell_type": "code",
   "execution_count": 1,
   "id": "cff6fefd",
   "metadata": {},
   "outputs": [],
   "source": [
    "import sys\n",
    "from pathlib import Path\n",
    "\n",
    "CWD = Path.cwd()\n",
    "if CWD.name == \"notebooks\" and (CWD.parent / \"src\").exists():\n",
    "    sys.path.insert(0, str(CWD.parent))     # raiz do projeto\n",
    "elif (CWD / \"src\").exists():\n",
    "    sys.path.insert(0, str(CWD))            # caso execute da raiz"
   ]
  },
  {
   "cell_type": "code",
   "execution_count": 2,
   "id": "f310abf0",
   "metadata": {},
   "outputs": [
    {
     "name": "stdout",
     "output_type": "stream",
     "text": [
      "DATA_ROOT: C:\\Users\\Filip\\OneDrive\\Documentos\\Documentos - Doc, Docx\\PUCRS - TCC 15-07-2025\\tcc_skin_cancer_day1\\data\\raw\\HAM10000\n"
     ]
    },
    {
     "data": {
      "text/html": [
       "<div>\n",
       "<style scoped>\n",
       "    .dataframe tbody tr th:only-of-type {\n",
       "        vertical-align: middle;\n",
       "    }\n",
       "\n",
       "    .dataframe tbody tr th {\n",
       "        vertical-align: top;\n",
       "    }\n",
       "\n",
       "    .dataframe thead th {\n",
       "        text-align: right;\n",
       "    }\n",
       "</style>\n",
       "<table border=\"1\" class=\"dataframe\">\n",
       "  <thead>\n",
       "    <tr style=\"text-align: right;\">\n",
       "      <th></th>\n",
       "      <th>dx</th>\n",
       "      <th>count</th>\n",
       "      <th>pct</th>\n",
       "    </tr>\n",
       "  </thead>\n",
       "  <tbody>\n",
       "    <tr>\n",
       "      <th>0</th>\n",
       "      <td>nv</td>\n",
       "      <td>6705</td>\n",
       "      <td>0.6695</td>\n",
       "    </tr>\n",
       "    <tr>\n",
       "      <th>1</th>\n",
       "      <td>mel</td>\n",
       "      <td>1113</td>\n",
       "      <td>0.1111</td>\n",
       "    </tr>\n",
       "    <tr>\n",
       "      <th>2</th>\n",
       "      <td>bkl</td>\n",
       "      <td>1099</td>\n",
       "      <td>0.1097</td>\n",
       "    </tr>\n",
       "    <tr>\n",
       "      <th>3</th>\n",
       "      <td>bcc</td>\n",
       "      <td>514</td>\n",
       "      <td>0.0513</td>\n",
       "    </tr>\n",
       "    <tr>\n",
       "      <th>4</th>\n",
       "      <td>akiec</td>\n",
       "      <td>327</td>\n",
       "      <td>0.0327</td>\n",
       "    </tr>\n",
       "    <tr>\n",
       "      <th>5</th>\n",
       "      <td>vasc</td>\n",
       "      <td>142</td>\n",
       "      <td>0.0142</td>\n",
       "    </tr>\n",
       "    <tr>\n",
       "      <th>6</th>\n",
       "      <td>df</td>\n",
       "      <td>115</td>\n",
       "      <td>0.0115</td>\n",
       "    </tr>\n",
       "  </tbody>\n",
       "</table>\n",
       "</div>"
      ],
      "text/plain": [
       "      dx  count     pct\n",
       "0     nv   6705  0.6695\n",
       "1    mel   1113  0.1111\n",
       "2    bkl   1099  0.1097\n",
       "3    bcc    514  0.0513\n",
       "4  akiec    327  0.0327\n",
       "5   vasc    142  0.0142\n",
       "6     df    115  0.0115"
      ]
     },
     "execution_count": 2,
     "metadata": {},
     "output_type": "execute_result"
    }
   ],
   "source": [
    "from pathlib import Path\n",
    "from src import viz\n",
    "from src.data import load_metadata, class_distribution\n",
    "\n",
    "viz.configure()  # aplique o padrão ANTES de plotar\n",
    "\n",
    "# Detecta automaticamente onde está a pasta do dataset,\n",
    "# considerando se o CWD é a raiz do projeto ou a pasta notebooks/\n",
    "CWD = Path.cwd()\n",
    "candidates = [\n",
    "    CWD / \"data\" / \"raw\" / \"HAM10000\",\n",
    "    CWD.parent / \"data\" / \"raw\" / \"HAM10000\"  # se o CWD for notebooks/\n",
    "]\n",
    "\n",
    "DATA_ROOT = next((p for p in candidates if (p / \"HAM10000_metadata.csv\").exists()), None)\n",
    "\n",
    "# Fallback: busca o CSV em toda a árvore (mais lento, mas salva em casos atípicos)\n",
    "if DATA_ROOT is None:\n",
    "    meta_any = next((p for p in CWD.rglob(\"HAM10000_metadata.csv\")), None)\n",
    "    if meta_any:\n",
    "        DATA_ROOT = meta_any.parent\n",
    "\n",
    "if DATA_ROOT is None:\n",
    "    raise FileNotFoundError(f\"Não achei HAM10000_metadata.csv. CWD={CWD}\")\n",
    "\n",
    "# Confirma o caminho encontrado (bom para sanity-check)\n",
    "print(\"DATA_ROOT:\", DATA_ROOT)\n",
    "\n",
    "meta = DATA_ROOT / \"HAM10000_metadata.csv\"\n",
    "df = load_metadata(meta)\n",
    "dist = class_distribution(df)\n",
    "dist  # exibe a tabela\n"
   ]
  },
  {
   "cell_type": "code",
   "execution_count": 3,
   "id": "658669a7",
   "metadata": {},
   "outputs": [
    {
     "data": {
      "image/png": "[encoded data removed]",
      "text/plain": [
       "<Figure size 700x450 with 1 Axes>"
      ]
     },
     "metadata": {},
     "output_type": "display_data"
    }
   ],
   "source": [
    "import matplotlib.pyplot as plt\n",
    "from src import viz\n",
    "\n",
    "fig, ax = viz.fig_ax(size=\"M\")  # 7.0\" x 4.5\" => 2100x1350 px @300\n",
    "dist.plot(kind=\"bar\", x=\"dx\", y=\"count\", legend=False, rot=45, ax=ax)\n",
    "ax.set_title(\"Distribuição de classes – HAM10000\")\n",
    "ax.set_xlabel(\"Classe (dx)\")\n",
    "ax.set_ylabel(\"Contagem\")\n",
    "viz.beautify_axes(ax)\n",
    "viz.save_fig(fig, \"outputs/figures/ham10000_class_dist.png\")\n",
    "plt.show()\n"
   ]
  }
 ],
 "metadata": {
  "kernelspec": {
   "display_name": "tcc-skin",
   "language": "python",
   "name": "tcc-skin"
  },
  "language_info": {
   "codemirror_mode": {
    "name": "ipython",
    "version": 3
   },
   "file_extension": ".py",
   "mimetype": "text/x-python",
   "name": "python",
   "nbconvert_exporter": "python",
   "pygments_lexer": "ipython3",
   "version": "3.10.18"
  }
 },
 "nbformat": 4,
 "nbformat_minor": 5
}
