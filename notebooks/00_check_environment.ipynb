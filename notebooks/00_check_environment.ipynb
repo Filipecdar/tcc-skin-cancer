{
 "cells": [
  {
   "cell_type": "markdown",
   "id": "95ea1499",
   "metadata": {},
   "source": [
    "# 00 – Check Environment"
   ]
  },
  {
   "cell_type": "code",
   "execution_count": 1,
   "id": "9f9cccdd",
   "metadata": {},
   "outputs": [
    {
     "name": "stdout",
     "output_type": "stream",
     "text": [
      "Python: 3.10.18 | packaged by conda-forge | (main, Jun  4 2025, 14:42:04) [MSC v.1943 64 bit (AMD64)]\n",
      "Platform: Windows-10-10.0.26100-SP0\n",
      "TF version: 2.19.0\n",
      "NumPy: 2.1.3\n",
      "Pandas: 2.3.1\n",
      "scikit-learn: 1.7.1\n",
      "Matplotlib: 3.10.5\n",
      "Pillow: 11.3.0\n",
      "OpenCV: 4.12.0\n",
      "tf-keras-vis: 0.8.7\n"
     ]
    }
   ],
   "source": [
    "import sys, platform\n",
    "import tensorflow as tf\n",
    "import numpy, pandas, sklearn, matplotlib, PIL, cv2\n",
    "import tf_keras_vis\n",
    "\n",
    "print(\"Python:\", sys.version)\n",
    "print(\"Platform:\", platform.platform())\n",
    "print(\"TF version:\", tf.__version__)\n",
    "print(\"NumPy:\", numpy.__version__)\n",
    "print(\"Pandas:\", pandas.__version__)\n",
    "print(\"scikit-learn:\", sklearn.__version__)\n",
    "print(\"Matplotlib:\", matplotlib.__version__)\n",
    "print(\"Pillow:\", PIL.__version__)\n",
    "print(\"OpenCV:\", cv2.__version__)\n",
    "print(\"tf-keras-vis:\", tf_keras_vis.__version__)"
   ]
  }
 ],
 "metadata": {
  "kernelspec": {
   "display_name": "tcc-skin",
   "language": "python",
   "name": "tcc-skin"
  },
  "language_info": {
   "codemirror_mode": {
    "name": "ipython",
    "version": 3
   },
   "file_extension": ".py",
   "mimetype": "text/x-python",
   "name": "python",
   "nbconvert_exporter": "python",
   "pygments_lexer": "ipython3",
   "version": "3.10.18"
  }
 },
 "nbformat": 4,
 "nbformat_minor": 5
}
