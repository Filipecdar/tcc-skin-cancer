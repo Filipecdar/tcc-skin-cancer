{
 "cells": [
  {
   "cell_type": "markdown",
   "id": "cacde38f",
   "metadata": {},
   "source": [
    "# 02 – Smoke test do padrão de figuras (Step 6)"
   ]
  },
  {
   "cell_type": "code",
   "execution_count": 6,
   "id": "bed95367",
   "metadata": {},
   "outputs": [
    {
     "name": "stdout",
     "output_type": "stream",
     "text": [
      "Arquivos salvos:\n",
      " - outputs\\figures\\style_bar.png\n",
      " - outputs\\figures\\style_line.png\n",
      " - outputs\\figures\\style_heatmap.png\n"
     ]
    }
   ],
   "source": [
    "\n",
    "from pathlib import Path\n",
    "import numpy as np\n",
    "import pandas as pd\n",
    "import matplotlib.pyplot as plt\n",
    "from PIL import Image\n",
    "\n",
    "# Deixe o Python achar a pasta 'src' quando o notebook está em 'notebooks/'\n",
    "import sys\n",
    "from pathlib import Path\n",
    "\n",
    "ROOT = Path.cwd()\n",
    "if ROOT.name == \"notebooks\" and (ROOT.parent / \"src\").exists():\n",
    "    sys.path.insert(0, str(ROOT.parent))   # adiciona a raiz do projeto\n",
    "elif (ROOT / \"src\").exists():\n",
    "    sys.path.insert(0, str(ROOT))          # caso esteja rodando a partir da raiz\n",
    "\n",
    "from src import viz\n",
    "viz.configure()\n",
    "\n",
    "OUT = Path(\"outputs/figures\")\n",
    "OUT.mkdir(parents=True, exist_ok=True)\n",
    "\n",
    "# 1) Barplot simples (dados fictícios)\n",
    "cats = [\"A\", \"B\", \"C\", \"D\"]\n",
    "vals = [42, 57, 31, 66]\n",
    "fig, ax = viz.fig_ax(size=\"M\")\n",
    "ax.bar(cats, vals)\n",
    "ax.set_title(\"Exemplo – Barplot (padrão M)\")\n",
    "ax.set_xlabel(\"Categoria\")\n",
    "ax.set_ylabel(\"Valor\")\n",
    "viz.beautify_axes(ax)\n",
    "p1 = OUT / \"style_bar.png\"\n",
    "viz.save_fig(fig, p1)\n",
    "plt.close(fig)\n",
    "\n",
    "# 2) Linha\n",
    "x = np.arange(0, 20)\n",
    "y = np.cumsum(np.random.randn(20)) + 10\n",
    "fig, ax = viz.fig_ax(size=\"S\")\n",
    "ax.plot(x, y, marker=\"o\")\n",
    "ax.set_title(\"Exemplo – Linha (padrão S)\")\n",
    "ax.set_xlabel(\"Passo\")\n",
    "ax.set_ylabel(\"Métrica\")\n",
    "viz.beautify_axes(ax)\n",
    "p2 = OUT / \"style_line.png\"\n",
    "viz.save_fig(fig, p2)\n",
    "plt.close(fig)\n",
    "\n",
    "# 3) Heatmap (ex.: futuras matrizes de confusão)\n",
    "mat = np.random.rand(6, 6)\n",
    "fig, ax = viz.fig_ax(size=\"M\")\n",
    "im = ax.imshow(mat, aspect=\"auto\")\n",
    "ax.set_title(\"Exemplo – Heatmap (padrão M)\")\n",
    "ax.set_xlabel(\"Predito\")\n",
    "ax.set_ylabel(\"Verdadeiro\")\n",
    "fig.colorbar(im, ax=ax, shrink=0.8)\n",
    "p3 = OUT / \"style_heatmap.png\"\n",
    "viz.save_fig(fig, p3)\n",
    "plt.close(fig)\n",
    "\n",
    "print(\"Arquivos salvos:\")\n",
    "print(\" -\", p1)\n",
    "print(\" -\", p2)\n",
    "print(\" -\", p3)\n"
   ]
  },
  {
   "cell_type": "markdown",
   "id": "65aba428",
   "metadata": {},
   "source": [
    "### Verificar metadados (DPI, tamanho em pixels)"
   ]
  },
  {
   "cell_type": "code",
   "execution_count": 7,
   "id": "8995d775",
   "metadata": {},
   "outputs": [
    {
     "name": "stdout",
     "output_type": "stream",
     "text": [
      "{'path': 'outputs/figures/style_bar.png', 'size_px': (2100, 1350), 'dpi': (299.9994, 299.9994)}\n",
      "{'path': 'outputs/figures/style_line.png', 'size_px': (1650, 1050), 'dpi': (299.9994, 299.9994)}\n",
      "{'path': 'outputs/figures/style_heatmap.png', 'size_px': (2100, 1350), 'dpi': (299.9994, 299.9994)}\n"
     ]
    }
   ],
   "source": [
    "\n",
    "from PIL import Image\n",
    "for p in [\"outputs/figures/style_bar.png\", \"outputs/figures/style_line.png\", \"outputs/figures/style_heatmap.png\"]:\n",
    "    im = Image.open(p)\n",
    "    info = {\"path\": p, \"size_px\": im.size, \"dpi\": im.info.get(\"dpi\", None)}\n",
    "    print(info)\n"
   ]
  }
 ],
 "metadata": {
  "kernelspec": {
   "display_name": "tcc-skin",
   "language": "python",
   "name": "tcc-skin"
  },
  "language_info": {
   "codemirror_mode": {
    "name": "ipython",
    "version": 3
   },
   "file_extension": ".py",
   "mimetype": "text/x-python",
   "name": "python",
   "nbconvert_exporter": "python",
   "pygments_lexer": "ipython3",
   "version": "3.10.18"
  }
 },
 "nbformat": 4,
 "nbformat_minor": 5
}
